{
 "cells": [
  {
   "cell_type": "code",
   "execution_count": null,
   "id": "b59ed358",
   "metadata": {},
   "outputs": [],
   "source": [
    "%matplotlib notebook\n",
    "import matplotlib.pyplot as plt\n",
    "from matplotlib.animation import FuncAnimation\n",
    "import numpy as np\n",
    "import psutil\n",
    "\n",
    "fig, ax = plt.subplots(figsize=(6, 4))\n",
    "x = [0]\n",
    "y = [psutil.cpu_percent() ]\n",
    "     \n",
    "ax.plot(x, y, \"r--o\")\n",
    "\n",
    "def update(frame):\n",
    "    global x,y\n",
    "    ax.clear()\n",
    "    y.append(psutil.cpu_percent())\n",
    "    if len(x) > 50:\n",
    "        y.pop(0)\n",
    "    else:\n",
    "        x.append(x[-1]+1)\n",
    "    \n",
    "    ax.plot(x, y, \"r--o\")\n",
    "    #fig.draw_artist(ax)\n",
    "ani = FuncAnimation(fig, update, interval=1000)"
   ]
  }
 ],
 "metadata": {
  "kernelspec": {
   "display_name": "Python 3 (ipykernel)",
   "language": "python",
   "name": "python3"
  },
  "language_info": {
   "codemirror_mode": {
    "name": "ipython",
    "version": 3
   },
   "file_extension": ".py",
   "mimetype": "text/x-python",
   "name": "python",
   "nbconvert_exporter": "python",
   "pygments_lexer": "ipython3",
   "version": "3.9.12"
  }
 },
 "nbformat": 4,
 "nbformat_minor": 5
}
